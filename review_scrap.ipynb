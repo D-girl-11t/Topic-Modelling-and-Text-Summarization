{
  "nbformat": 4,
  "nbformat_minor": 0,
  "metadata": {
    "colab": {
      "name": "review_scrap.ipynb",
      "provenance": [],
      "mount_file_id": "1jA97SfbFhXgmOAUDbv7HyNA__VisrIDt",
      "authorship_tag": "ABX9TyOc2NasajzBtdlsvMYwqy6N",
      "include_colab_link": true
    },
    "kernelspec": {
      "name": "python3",
      "display_name": "Python 3"
    }
  },
  "cells": [
    {
      "cell_type": "markdown",
      "metadata": {
        "id": "view-in-github",
        "colab_type": "text"
      },
      "source": [
        "<a href=\"https://colab.research.google.com/github/D-girl-11t/Topic-Modelling-and-Text-Summarization/blob/master/review_scrap.ipynb\" target=\"_parent\"><img src=\"https://colab.research.google.com/assets/colab-badge.svg\" alt=\"Open In Colab\"/></a>"
      ]
    },
    {
      "cell_type": "code",
      "metadata": {
        "id": "g4vDctQMo3yf",
        "colab_type": "code",
        "colab": {
          "base_uri": "https://localhost:8080/",
          "height": 185
        },
        "outputId": "53639ef0-731e-476e-b8c4-4c902370a9bd"
      },
      "source": [
        "pip install google-play-scraper"
      ],
      "execution_count": 1,
      "outputs": [
        {
          "output_type": "stream",
          "text": [
            "Collecting google-play-scraper\n",
            "\u001b[?25l  Downloading https://files.pythonhosted.org/packages/c2/00/ded89e498a6baa6bb60f954d5b4cd209a85861280fc462c9f0555876fd89/google-play-scraper-0.1.tar.gz (49kB)\n",
            "\r\u001b[K     |██████▋                         | 10kB 12.4MB/s eta 0:00:01\r\u001b[K     |█████████████▎                  | 20kB 1.7MB/s eta 0:00:01\r\u001b[K     |████████████████████            | 30kB 2.2MB/s eta 0:00:01\r\u001b[K     |██████████████████████████▋     | 40kB 2.3MB/s eta 0:00:01\r\u001b[K     |████████████████████████████████| 51kB 1.6MB/s \n",
            "\u001b[?25hBuilding wheels for collected packages: google-play-scraper\n",
            "  Building wheel for google-play-scraper (setup.py) ... \u001b[?25l\u001b[?25hdone\n",
            "  Created wheel for google-play-scraper: filename=google_play_scraper-0.1-cp36-none-any.whl size=21943 sha256=b7648b5a7512725b1211065e1d738fc448516bf82a81fe07e3ef0158535ba671\n",
            "  Stored in directory: /root/.cache/pip/wheels/1e/41/36/65f2b9f3ce05b65c135a4d5ae6cf816f7f62155df89632083f\n",
            "Successfully built google-play-scraper\n",
            "Installing collected packages: google-play-scraper\n",
            "Successfully installed google-play-scraper-0.1\n"
          ],
          "name": "stdout"
        }
      ]
    },
    {
      "cell_type": "code",
      "metadata": {
        "id": "dm6vy5sso7J0",
        "colab_type": "code",
        "colab": {}
      },
      "source": [
        "from google_play_scraper import Sort, reviews\n",
        "import pandas as pd"
      ],
      "execution_count": 2,
      "outputs": []
    },
    {
      "cell_type": "code",
      "metadata": {
        "id": "wwIJHnhupdA_",
        "colab_type": "code",
        "colab": {
          "base_uri": "https://localhost:8080/",
          "height": 84
        },
        "outputId": "70314b71-0e7c-4527-cb45-735e44355096"
      },
      "source": [
        "result,_= reviews(\n",
        "    'com.sbi.lotusintouch',  #app package\n",
        "    lang='en', # defaults to 'en'\n",
        "    country='in', \n",
        "    sort=Sort.MOST_RELEVANT, \n",
        "    count=1000, # defaults to 1000\n",
        "    filter_score_with=None\n",
        "    )\n",
        "lol=pd.DataFrame(result)\n",
        "lol.columns"
      ],
      "execution_count": 6,
      "outputs": [
        {
          "output_type": "execute_result",
          "data": {
            "text/plain": [
              "Index(['reviewId', 'userName', 'userImage', 'content', 'score',\n",
              "       'thumbsUpCount', 'reviewCreatedVersion', 'at', 'replyContent',\n",
              "       'repliedAt'],\n",
              "      dtype='object')"
            ]
          },
          "metadata": {
            "tags": []
          },
          "execution_count": 6
        }
      ]
    },
    {
      "cell_type": "code",
      "metadata": {
        "id": "GH1HOfKHp4lz",
        "colab_type": "code",
        "colab": {
          "base_uri": "https://localhost:8080/",
          "height": 1000
        },
        "outputId": "e260368e-5be2-4930-965b-f2a78513bfa5"
      },
      "source": [
        "review_scrap= lol.iloc[:,[0,1,3,4,5,8]]\n",
        "review_scrap"
      ],
      "execution_count": 7,
      "outputs": [
        {
          "output_type": "execute_result",
          "data": {
            "text/html": [
              "<div>\n",
              "<style scoped>\n",
              "    .dataframe tbody tr th:only-of-type {\n",
              "        vertical-align: middle;\n",
              "    }\n",
              "\n",
              "    .dataframe tbody tr th {\n",
              "        vertical-align: top;\n",
              "    }\n",
              "\n",
              "    .dataframe thead th {\n",
              "        text-align: right;\n",
              "    }\n",
              "</style>\n",
              "<table border=\"1\" class=\"dataframe\">\n",
              "  <thead>\n",
              "    <tr style=\"text-align: right;\">\n",
              "      <th></th>\n",
              "      <th>reviewId</th>\n",
              "      <th>userName</th>\n",
              "      <th>content</th>\n",
              "      <th>score</th>\n",
              "      <th>thumbsUpCount</th>\n",
              "      <th>replyContent</th>\n",
              "    </tr>\n",
              "  </thead>\n",
              "  <tbody>\n",
              "    <tr>\n",
              "      <th>0</th>\n",
              "      <td>gp:AOqpTOGmzryKoTq6-mZ8W1WP_9ZiBMc0xwxWhgV3qAl...</td>\n",
              "      <td>A Google user</td>\n",
              "      <td>Now i understand why this app doesnt work espe...</td>\n",
              "      <td>1</td>\n",
              "      <td>64</td>\n",
              "      <td>Hi  !\\n\\nWe are sorry to know about your exper...</td>\n",
              "    </tr>\n",
              "    <tr>\n",
              "      <th>1</th>\n",
              "      <td>gp:AOqpTOGb5zfpkCQxWpuI_xWXQ7RpYlX3oWx0SHFSRaQ...</td>\n",
              "      <td>Mahendra</td>\n",
              "      <td>(1) It is difficut typing password or OTP in t...</td>\n",
              "      <td>3</td>\n",
              "      <td>1298</td>\n",
              "      <td>Hi Mahendra !\\n\\nWe are sorry to know about yo...</td>\n",
              "    </tr>\n",
              "    <tr>\n",
              "      <th>2</th>\n",
              "      <td>gp:AOqpTOHstM-8Oi3QAWiui6hLdTtBCao0rIEZ2NprIP6...</td>\n",
              "      <td>Bela Rani</td>\n",
              "      <td>Earlier I use it very nicely,, but since few m...</td>\n",
              "      <td>1</td>\n",
              "      <td>846</td>\n",
              "      <td>Hi Bela !\\n\\nWe are sorry to know about your e...</td>\n",
              "    </tr>\n",
              "    <tr>\n",
              "      <th>3</th>\n",
              "      <td>gp:AOqpTOFu6XRVE7ny6VQVsmW5PHEv_d3G12W9xwmxPDH...</td>\n",
              "      <td>SARTHAK MAYEKAR</td>\n",
              "      <td>Hello, I did the same but it says \"no accounts...</td>\n",
              "      <td>1</td>\n",
              "      <td>554</td>\n",
              "      <td>Hi Sarthak !\\n\\nYou can change transaction rig...</td>\n",
              "    </tr>\n",
              "    <tr>\n",
              "      <th>4</th>\n",
              "      <td>gp:AOqpTOF_JnxnCLm5il_nxskJ0WPnH6e3sErGu7LSfMf...</td>\n",
              "      <td>TUTOR SQUARE</td>\n",
              "      <td>I use various banking apps for my business. Bu...</td>\n",
              "      <td>1</td>\n",
              "      <td>71</td>\n",
              "      <td>None</td>\n",
              "    </tr>\n",
              "    <tr>\n",
              "      <th>...</th>\n",
              "      <td>...</td>\n",
              "      <td>...</td>\n",
              "      <td>...</td>\n",
              "      <td>...</td>\n",
              "      <td>...</td>\n",
              "      <td>...</td>\n",
              "    </tr>\n",
              "    <tr>\n",
              "      <th>995</th>\n",
              "      <td>gp:AOqpTOHlG-29qd91qtdYfCLuD2Ljt41wJ0m74lnIQQx...</td>\n",
              "      <td>PURNA CHANDRA MOHAN</td>\n",
              "      <td>Waste app the app rejected my actual profile p...</td>\n",
              "      <td>1</td>\n",
              "      <td>0</td>\n",
              "      <td>Hi Purna! \\n\\nWe're sorry to know about your e...</td>\n",
              "    </tr>\n",
              "    <tr>\n",
              "      <th>996</th>\n",
              "      <td>gp:AOqpTOGkm4QVBlsxxq_unmjbCUNL6NS28261zuRDAAA...</td>\n",
              "      <td>Sneha Gandham</td>\n",
              "      <td>Whenever I try to open, it only appears \"tecni...</td>\n",
              "      <td>1</td>\n",
              "      <td>0</td>\n",
              "      <td>Hi Sneha ! \\n\\nWe’re sorry to know about your ...</td>\n",
              "    </tr>\n",
              "    <tr>\n",
              "      <th>997</th>\n",
              "      <td>gp:AOqpTOGc35sJnzv65TAhbuPu0pI3WhIB5fI12PFcM3B...</td>\n",
              "      <td>Eswarappa Eswarappa</td>\n",
              "      <td>It was a great app to use and the user interfa...</td>\n",
              "      <td>5</td>\n",
              "      <td>0</td>\n",
              "      <td>\"Hi ! \\n\\nThank you very much for a delightful...</td>\n",
              "    </tr>\n",
              "    <tr>\n",
              "      <th>998</th>\n",
              "      <td>gp:AOqpTOGx6-OOY0CauJs_2cf0wPMIhcx8j868ZYMxT9v...</td>\n",
              "      <td>Anjan Malakar</td>\n",
              "      <td>Since last update, it not at all working, when...</td>\n",
              "      <td>1</td>\n",
              "      <td>0</td>\n",
              "      <td>Hi Anjan !\\n\\nWe regret the inconvenience caus...</td>\n",
              "    </tr>\n",
              "    <tr>\n",
              "      <th>999</th>\n",
              "      <td>gp:AOqpTOFoGL1gdYcgZeNt2ngyLyAjE7kiwZyy5wBzgDv...</td>\n",
              "      <td>Snehal Agrawal</td>\n",
              "      <td>Stupid bank will never open an account in this...</td>\n",
              "      <td>1</td>\n",
              "      <td>0</td>\n",
              "      <td>Hi Snehal !\\n\\nWe are sorry to know about your...</td>\n",
              "    </tr>\n",
              "  </tbody>\n",
              "</table>\n",
              "<p>1000 rows × 6 columns</p>\n",
              "</div>"
            ],
            "text/plain": [
              "                                              reviewId  ...                                       replyContent\n",
              "0    gp:AOqpTOGmzryKoTq6-mZ8W1WP_9ZiBMc0xwxWhgV3qAl...  ...  Hi  !\\n\\nWe are sorry to know about your exper...\n",
              "1    gp:AOqpTOGb5zfpkCQxWpuI_xWXQ7RpYlX3oWx0SHFSRaQ...  ...  Hi Mahendra !\\n\\nWe are sorry to know about yo...\n",
              "2    gp:AOqpTOHstM-8Oi3QAWiui6hLdTtBCao0rIEZ2NprIP6...  ...  Hi Bela !\\n\\nWe are sorry to know about your e...\n",
              "3    gp:AOqpTOFu6XRVE7ny6VQVsmW5PHEv_d3G12W9xwmxPDH...  ...  Hi Sarthak !\\n\\nYou can change transaction rig...\n",
              "4    gp:AOqpTOF_JnxnCLm5il_nxskJ0WPnH6e3sErGu7LSfMf...  ...                                               None\n",
              "..                                                 ...  ...                                                ...\n",
              "995  gp:AOqpTOHlG-29qd91qtdYfCLuD2Ljt41wJ0m74lnIQQx...  ...  Hi Purna! \\n\\nWe're sorry to know about your e...\n",
              "996  gp:AOqpTOGkm4QVBlsxxq_unmjbCUNL6NS28261zuRDAAA...  ...  Hi Sneha ! \\n\\nWe’re sorry to know about your ...\n",
              "997  gp:AOqpTOGc35sJnzv65TAhbuPu0pI3WhIB5fI12PFcM3B...  ...  \"Hi ! \\n\\nThank you very much for a delightful...\n",
              "998  gp:AOqpTOGx6-OOY0CauJs_2cf0wPMIhcx8j868ZYMxT9v...  ...  Hi Anjan !\\n\\nWe regret the inconvenience caus...\n",
              "999  gp:AOqpTOFoGL1gdYcgZeNt2ngyLyAjE7kiwZyy5wBzgDv...  ...  Hi Snehal !\\n\\nWe are sorry to know about your...\n",
              "\n",
              "[1000 rows x 6 columns]"
            ]
          },
          "metadata": {
            "tags": []
          },
          "execution_count": 7
        }
      ]
    },
    {
      "cell_type": "code",
      "metadata": {
        "id": "An8OGVeaqamn",
        "colab_type": "code",
        "colab": {}
      },
      "source": [
        "review_scrap.to_csv(\"/content/drive/My Drive/Book1.csv\",index=False)"
      ],
      "execution_count": 8,
      "outputs": []
    },
    {
      "cell_type": "code",
      "metadata": {
        "id": "DuLHTTv2rQHW",
        "colab_type": "code",
        "colab": {}
      },
      "source": [
        ""
      ],
      "execution_count": null,
      "outputs": []
    }
  ]
}